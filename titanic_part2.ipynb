{
 "cells": [
  {
   "cell_type": "code",
   "execution_count": 9,
   "id": "af6ee278",
   "metadata": {},
   "outputs": [],
   "source": [
    "import pandas as pd\n",
    "import numpy as np\n",
    "from scipy import stats\n",
    "\n",
    "titanic = pd.read_csv('titanic.csv')\n",
    "titanic.columns\n",
    "titanic.head()\n",
    "titanic = titanic.set_index(['PassengerId'])"
   ]
  },
  {
   "cell_type": "code",
   "execution_count": 10,
   "id": "2c29d6f1",
   "metadata": {},
   "outputs": [],
   "source": [
    "def get_NAN(column):\n",
    "    \n",
    "\n",
    "    count = column.isnull().sum()\n",
    "    return count"
   ]
  },
  {
   "cell_type": "code",
   "execution_count": 11,
   "id": "2726e681",
   "metadata": {},
   "outputs": [
    {
     "data": {
      "text/plain": [
       "0"
      ]
     },
     "execution_count": 11,
     "metadata": {},
     "output_type": "execute_result"
    }
   ],
   "source": [
    "get_NAN(titanic['Survived'])"
   ]
  },
  {
   "cell_type": "code",
   "execution_count": 12,
   "id": "a7ea2c52",
   "metadata": {},
   "outputs": [
    {
     "data": {
      "text/plain": [
       "0"
      ]
     },
     "execution_count": 12,
     "metadata": {},
     "output_type": "execute_result"
    }
   ],
   "source": [
    "get_NAN(titanic['Pclass'])"
   ]
  },
  {
   "cell_type": "code",
   "execution_count": 13,
   "id": "3729c9d3",
   "metadata": {},
   "outputs": [
    {
     "data": {
      "text/plain": [
       "0"
      ]
     },
     "execution_count": 13,
     "metadata": {},
     "output_type": "execute_result"
    }
   ],
   "source": [
    "get_NAN(titanic['Sex'])"
   ]
  },
  {
   "cell_type": "code",
   "execution_count": 14,
   "id": "4b148bb8",
   "metadata": {},
   "outputs": [
    {
     "data": {
      "text/plain": [
       "177"
      ]
     },
     "execution_count": 14,
     "metadata": {},
     "output_type": "execute_result"
    }
   ],
   "source": [
    "get_NAN(titanic['Age'])"
   ]
  },
  {
   "cell_type": "code",
   "execution_count": 15,
   "id": "1db99c63",
   "metadata": {},
   "outputs": [
    {
     "data": {
      "text/plain": [
       "2"
      ]
     },
     "execution_count": 15,
     "metadata": {},
     "output_type": "execute_result"
    }
   ],
   "source": [
    "get_NAN(titanic['Embarked'])"
   ]
  },
  {
   "cell_type": "code",
   "execution_count": 16,
   "id": "56b38390",
   "metadata": {},
   "outputs": [],
   "source": [
    "survivors = titanic['Survived'].sum()\n",
    "\n",
    "def survival(dataframe, survival_rate):\n",
    "   \n",
    "    by_survival = dataframe.groupby(survival_rate)\n",
    "    count = by_survival['Survived'].sum()\n",
    "    survived = count / survivors * 100\n",
    "    print('Survival rate:', survival_rate)\n",
    "    return survival_rate, count\n",
    "\n",
    "survived = titanic['Survived'].sum()"
   ]
  },
  {
   "cell_type": "code",
   "execution_count": 18,
   "id": "b72ac85a",
   "metadata": {},
   "outputs": [],
   "source": [
    "total_passenger = len(titanic['Pclass'])\n",
    "first_class = (titanic['Pclass'] == 1).sum()\n",
    "second_class = (titanic['Pclass'] == 2).sum()\n",
    "third_class = (titanic['Pclass'] == 3).sum()\n",
    "\n",
    "first_person =  first_class / total_passenger * 100\n",
    "second_person = second_class / total_passenger * 100\n",
    "third_person = third_class / total_passenger * 100"
   ]
  },
  {
   "cell_type": "code",
   "execution_count": 19,
   "id": "b472f0fe",
   "metadata": {},
   "outputs": [
    {
     "name": "stdout",
     "output_type": "stream",
     "text": [
      "First class =  24.242424242424242  | Count:  216\n",
      "Second class  =  20.65095398428732  | Count:  184\n",
      "Third class  =  55.106621773288445  | Count:  491\n"
     ]
    }
   ],
   "source": [
    "print('First class = ', first_person, ' | Count: ', first_class)\n",
    "print('Second class  = ', second_person, ' | Count: ', second_class)\n",
    "print('Third class  = ', third_person, ' | Count: ', third_class)"
   ]
  },
  {
   "cell_type": "code",
   "execution_count": 20,
   "id": "fb734227",
   "metadata": {},
   "outputs": [
    {
     "name": "stdout",
     "output_type": "stream",
     "text": [
      "Survival rate: Pclass\n"
     ]
    },
    {
     "data": {
      "text/plain": [
       "('Pclass',\n",
       " Pclass\n",
       " 1    136\n",
       " 2     87\n",
       " 3    119\n",
       " Name: Survived, dtype: int64)"
      ]
     },
     "execution_count": 20,
     "metadata": {},
     "output_type": "execute_result"
    }
   ],
   "source": [
    "survival(titanic, 'Pclass')"
   ]
  },
  {
   "cell_type": "code",
   "execution_count": 21,
   "id": "774cedcc",
   "metadata": {},
   "outputs": [],
   "source": [
    "def getcount(dataframe, fctr, qty, status):\n",
    "    target = dataframe[fctr].where(dataframe[fctr] == qty)\n",
    "    class_count = target.where(dataframe['Survived'] == status).count()\n",
    "    return class_count\n"
   ]
  },
  {
   "cell_type": "code",
   "execution_count": 22,
   "id": "badc5c1d",
   "metadata": {},
   "outputs": [],
   "source": [
    "class1_surv = getcount(titanic, 'Pclass', 1, 1)\n",
    "class2_surv = getcount(titanic, 'Pclass', 2, 1)\n",
    "class3_surv = getcount(titanic, 'Pclass', 3, 1)\n",
    "class1_d = getcount(titanic, 'Pclass', 1, 0)\n",
    "class2_d = getcount(titanic, 'Pclass', 2, 0)\n",
    "class3_d = getcount(titanic, 'Pclass', 3, 0)"
   ]
  },
  {
   "cell_type": "code",
   "execution_count": 23,
   "id": "d372a475",
   "metadata": {},
   "outputs": [
    {
     "name": "stdout",
     "output_type": "stream",
     "text": [
      "First class survival: 136\n",
      "Second class survival: 87\n",
      "Third class survival: 119\n",
      "First class death: 80\n",
      "Second class death: 97\n",
      "Third class death: 372\n"
     ]
    }
   ],
   "source": [
    "\n",
    "print('First class survival:', class1_surv)\n",
    "print('Second class survival:', class2_surv)\n",
    "print('Third class survival:', class3_surv)\n",
    "print('First class death:', class1_d)\n",
    "print('Second class death:', class2_d)\n",
    "print('Third class death:', class3_d)"
   ]
  },
  {
   "cell_type": "code",
   "execution_count": 24,
   "id": "1ad6c136",
   "metadata": {},
   "outputs": [],
   "source": [
    "import matplotlib.pyplot as plt\n",
    "import seaborn as sns"
   ]
  },
  {
   "cell_type": "code",
   "execution_count": 25,
   "id": "b94097b1",
   "metadata": {},
   "outputs": [],
   "source": [
    "def plot(survivalarray, deatharray, factor, x_ticks):\n",
    "    \n",
    "    abs_survival = np.array(survivalarray)\n",
    "    abs_death = np.array(deatharray)\n",
    "    N = len(abs_survival)\n",
    "    ind = np.arange(N)\n",
    "    width = 1 / N\n",
    "\n",
    "    f, (ax1, ax2) = plt.subplots(1, 2, figsize=(10,5))\n",
    "\n",
    "    ax1.bar(ind, abs_survival, width, label='Survival', alpha=0.8)\n",
    "    ax1.bar(ind, abs_death, width, color='#d62728', label='Death', alpha=0.8, bottom=abs_survival)\n",
    "\n",
    "    plt.sca(ax1)\n",
    "    plt.xticks(ind, x_ticks)\n",
    "\n",
    "    ax1.set_title('Absolute count ' + factor)\n",
    "    ax1.set_ylabel('Count')\n",
    "    ax1.legend(loc='upper left')\n",
    "\n",
    "    plt.setp(plt.gca().get_xticklabels(), rotation=45)\n",
    "\n",
    "    per_survival = (abs_survival / (abs_survival + abs_death)) * 100\n",
    "    per_death = (abs_death / (abs_survival + abs_death)) * 100\n",
    "\n",
    "    ax2.bar(ind, per_survival, width, label='Survival percentage', alpha=0.8)\n",
    "    ax2.bar(ind, per_death, width, color='#d62728', label='Death percentage', alpha=0.8, bottom=per_survival)\n",
    "\n",
    "    plt.sca(ax2)\n",
    "    plt.xticks(ind, x_ticks)\n",
    "\n",
    "    ax2.set_title('Percentage ' + factor)\n",
    "    ax2.set_ylabel('Percentage')\n",
    "\n",
    "    plt.setp(plt.gca().get_xticklabels(), rotation=45)\n",
    "\n",
    "    return plt.show()"
   ]
  },
  {
   "cell_type": "code",
   "execution_count": 26,
   "id": "bdfe3561",
   "metadata": {},
   "outputs": [
    {
     "data": {
      "image/png": "[encoded data removed]",
      "text/plain": [
       "<Figure size 720x360 with 2 Axes>"
      ]
     },
     "metadata": {
      "needs_background": "light"
     },
     "output_type": "display_data"
    }
   ],
   "source": [
    "plot([class1_surv, class2_surv, class3_surv],\n",
    "         [class1_d, class2_d, class3_d],\n",
    "         'by ticket class',\n",
    "         ['First class', 'Second class', 'Third class'])"
   ]
  },
  {
   "cell_type": "code",
   "execution_count": 70,
   "id": "451d252e",
   "metadata": {},
   "outputs": [
    {
     "ename": "ValueError",
     "evalue": "For each axis slice, the sum of the observed frequencies must agree with the sum of the expected frequencies to a relative tolerance of 1e-08, but the percent differences are:\n5.014619883040936",
     "output_type": "error",
     "traceback": [
      "\u001b[1;31m---------------------------------------------------------------------------\u001b[0m",
      "\u001b[1;31mValueError\u001b[0m                                Traceback (most recent call last)",
      "Input \u001b[1;32mIn [70]\u001b[0m, in \u001b[0;36m<cell line: 1>\u001b[1;34m()\u001b[0m\n\u001b[1;32m----> 1\u001b[0m \u001b[43mstats\u001b[49m\u001b[38;5;241;43m.\u001b[39;49m\u001b[43mchisquare\u001b[49m\u001b[43m(\u001b[49m\u001b[43mtitanic\u001b[49m\u001b[43m[\u001b[49m\u001b[38;5;124;43m'\u001b[39;49m\u001b[38;5;124;43mSurvived\u001b[39;49m\u001b[38;5;124;43m'\u001b[39;49m\u001b[43m]\u001b[49m\u001b[43m,\u001b[49m\u001b[43m \u001b[49m\u001b[43mtitanic\u001b[49m\u001b[43m[\u001b[49m\u001b[38;5;124;43m'\u001b[39;49m\u001b[38;5;124;43mPclass\u001b[39;49m\u001b[38;5;124;43m'\u001b[39;49m\u001b[43m]\u001b[49m\u001b[43m)\u001b[49m\n",
      "File \u001b[1;32m~\\anaconda3\\lib\\site-packages\\scipy\\stats\\stats.py:6852\u001b[0m, in \u001b[0;36mchisquare\u001b[1;34m(f_obs, f_exp, ddof, axis)\u001b[0m\n\u001b[0;32m   6728\u001b[0m \u001b[38;5;28;01mdef\u001b[39;00m \u001b[38;5;21mchisquare\u001b[39m(f_obs, f_exp\u001b[38;5;241m=\u001b[39m\u001b[38;5;28;01mNone\u001b[39;00m, ddof\u001b[38;5;241m=\u001b[39m\u001b[38;5;241m0\u001b[39m, axis\u001b[38;5;241m=\u001b[39m\u001b[38;5;241m0\u001b[39m):\n\u001b[0;32m   6729\u001b[0m     \u001b[38;5;124;03m\"\"\"Calculate a one-way chi-square test.\u001b[39;00m\n\u001b[0;32m   6730\u001b[0m \n\u001b[0;32m   6731\u001b[0m \u001b[38;5;124;03m    The chi-square test tests the null hypothesis that the categorical data\u001b[39;00m\n\u001b[1;32m   (...)\u001b[0m\n\u001b[0;32m   6850\u001b[0m \n\u001b[0;32m   6851\u001b[0m \u001b[38;5;124;03m    \"\"\"\u001b[39;00m\n\u001b[1;32m-> 6852\u001b[0m     \u001b[38;5;28;01mreturn\u001b[39;00m \u001b[43mpower_divergence\u001b[49m\u001b[43m(\u001b[49m\u001b[43mf_obs\u001b[49m\u001b[43m,\u001b[49m\u001b[43m \u001b[49m\u001b[43mf_exp\u001b[49m\u001b[38;5;241;43m=\u001b[39;49m\u001b[43mf_exp\u001b[49m\u001b[43m,\u001b[49m\u001b[43m \u001b[49m\u001b[43mddof\u001b[49m\u001b[38;5;241;43m=\u001b[39;49m\u001b[43mddof\u001b[49m\u001b[43m,\u001b[49m\u001b[43m \u001b[49m\u001b[43maxis\u001b[49m\u001b[38;5;241;43m=\u001b[39;49m\u001b[43maxis\u001b[49m\u001b[43m,\u001b[49m\n\u001b[0;32m   6853\u001b[0m \u001b[43m                            \u001b[49m\u001b[43mlambda_\u001b[49m\u001b[38;5;241;43m=\u001b[39;49m\u001b[38;5;124;43m\"\u001b[39;49m\u001b[38;5;124;43mpearson\u001b[39;49m\u001b[38;5;124;43m\"\u001b[39;49m\u001b[43m)\u001b[49m\n",
      "File \u001b[1;32m~\\anaconda3\\lib\\site-packages\\scipy\\stats\\stats.py:6694\u001b[0m, in \u001b[0;36mpower_divergence\u001b[1;34m(f_obs, f_exp, ddof, axis, lambda_)\u001b[0m\n\u001b[0;32m   6688\u001b[0m     \u001b[38;5;28;01mif\u001b[39;00m diff_gt_tol:\n\u001b[0;32m   6689\u001b[0m         msg \u001b[38;5;241m=\u001b[39m (\u001b[38;5;124mf\u001b[39m\u001b[38;5;124m\"\u001b[39m\u001b[38;5;124mFor each axis slice, the sum of the observed \u001b[39m\u001b[38;5;124m\"\u001b[39m\n\u001b[0;32m   6690\u001b[0m                \u001b[38;5;124mf\u001b[39m\u001b[38;5;124m\"\u001b[39m\u001b[38;5;124mfrequencies must agree with the sum of the \u001b[39m\u001b[38;5;124m\"\u001b[39m\n\u001b[0;32m   6691\u001b[0m                \u001b[38;5;124mf\u001b[39m\u001b[38;5;124m\"\u001b[39m\u001b[38;5;124mexpected frequencies to a relative tolerance \u001b[39m\u001b[38;5;124m\"\u001b[39m\n\u001b[0;32m   6692\u001b[0m                \u001b[38;5;124mf\u001b[39m\u001b[38;5;124m\"\u001b[39m\u001b[38;5;124mof \u001b[39m\u001b[38;5;132;01m{\u001b[39;00mrtol\u001b[38;5;132;01m}\u001b[39;00m\u001b[38;5;124m, but the percent differences are:\u001b[39m\u001b[38;5;130;01m\\n\u001b[39;00m\u001b[38;5;124m\"\u001b[39m\n\u001b[0;32m   6693\u001b[0m                \u001b[38;5;124mf\u001b[39m\u001b[38;5;124m\"\u001b[39m\u001b[38;5;132;01m{\u001b[39;00mrelative_diff\u001b[38;5;132;01m}\u001b[39;00m\u001b[38;5;124m\"\u001b[39m)\n\u001b[1;32m-> 6694\u001b[0m         \u001b[38;5;28;01mraise\u001b[39;00m \u001b[38;5;167;01mValueError\u001b[39;00m(msg)\n\u001b[0;32m   6696\u001b[0m \u001b[38;5;28;01melse\u001b[39;00m:\n\u001b[0;32m   6697\u001b[0m     \u001b[38;5;66;03m# Ignore 'invalid' errors so the edge case of a data set with length 0\u001b[39;00m\n\u001b[0;32m   6698\u001b[0m     \u001b[38;5;66;03m# is handled without spurious warnings.\u001b[39;00m\n\u001b[0;32m   6699\u001b[0m     \u001b[38;5;28;01mwith\u001b[39;00m np\u001b[38;5;241m.\u001b[39merrstate(invalid\u001b[38;5;241m=\u001b[39m\u001b[38;5;124m'\u001b[39m\u001b[38;5;124mignore\u001b[39m\u001b[38;5;124m'\u001b[39m):\n",
      "\u001b[1;31mValueError\u001b[0m: For each axis slice, the sum of the observed frequencies must agree with the sum of the expected frequencies to a relative tolerance of 1e-08, but the percent differences are:\n5.014619883040936"
     ]
    }
   ],
   "source": [
    "stats.chisquare(titanic['Survived'], titanic['Pclass'])"
   ]
  },
  {
   "cell_type": "code",
   "execution_count": 27,
   "id": "51e721a2",
   "metadata": {},
   "outputs": [],
   "source": [
    "female_survival = getcount(titanic, 'Sex', 'female', 1)\n",
    "male_survival = getcount(titanic, 'Sex', 'male', 1)\n",
    "female_death = getcount(titanic, 'Sex', 'female', 0)\n",
    "male_death = getcount(titanic, 'Sex', 'male', 0)"
   ]
  },
  {
   "cell_type": "code",
   "execution_count": 28,
   "id": "b413de04",
   "metadata": {},
   "outputs": [
    {
     "name": "stdout",
     "output_type": "stream",
     "text": [
      "SURVIVORS BY GENDER\n",
      "Female survived:  233\n",
      "Male survived:  109\n",
      "DEATHS BY GENDER\n",
      "Female died:  81\n",
      "Male died:  468\n"
     ]
    }
   ],
   "source": [
    "print('SURVIVORS BY GENDER')\n",
    "print('Female survived: ', female_survival)\n",
    "print('Male survived: ', male_survival)\n",
    "print('DEATHS BY GENDER')\n",
    "print('Female died: ', female_death)\n",
    "print('Male died: ', male_death)"
   ]
  },
  {
   "cell_type": "code",
   "execution_count": 29,
   "id": "66c03a15",
   "metadata": {},
   "outputs": [
    {
     "data": {
      "image/png": "[encoded data removed]",
      "text/plain": [
       "<Figure size 720x360 with 2 Axes>"
      ]
     },
     "metadata": {
      "needs_background": "light"
     },
     "output_type": "display_data"
    }
   ],
   "source": [
    "plot([female_survival, male_survival],\n",
    "         [female_death, male_death],\n",
    "         'by gender',\n",
    "         ['Female', 'Male'])"
   ]
  },
  {
   "cell_type": "code",
   "execution_count": 30,
   "id": "ff3d9631",
   "metadata": {},
   "outputs": [
    {
     "name": "stderr",
     "output_type": "stream",
     "text": [
      "C:\\Users\\17786\\AppData\\Local\\Temp\\ipykernel_13176\\4052270375.py:2: SettingWithCopyWarning: \n",
      "A value is trying to be set on a copy of a slice from a DataFrame\n",
      "\n",
      "See the caveats in the documentation: https://pandas.pydata.org/pandas-docs/stable/user_guide/indexing.html#returning-a-view-versus-a-copy\n",
      "  gender_titanic.replace(['male', 'female'], [0, 1], inplace=True)\n"
     ]
    },
    {
     "data": {
      "text/html": [
       "<div>\n",
       "<style scoped>\n",
       "    .dataframe tbody tr th:only-of-type {\n",
       "        vertical-align: middle;\n",
       "    }\n",
       "\n",
       "    .dataframe tbody tr th {\n",
       "        vertical-align: top;\n",
       "    }\n",
       "\n",
       "    .dataframe thead th {\n",
       "        text-align: right;\n",
       "    }\n",
       "</style>\n",
       "<table border=\"1\" class=\"dataframe\">\n",
       "  <thead>\n",
       "    <tr style=\"text-align: right;\">\n",
       "      <th></th>\n",
       "      <th>Sex</th>\n",
       "      <th>Survived</th>\n",
       "    </tr>\n",
       "  </thead>\n",
       "  <tbody>\n",
       "    <tr>\n",
       "      <th>Sex</th>\n",
       "      <td>1.000000</td>\n",
       "      <td>0.543351</td>\n",
       "    </tr>\n",
       "    <tr>\n",
       "      <th>Survived</th>\n",
       "      <td>0.543351</td>\n",
       "      <td>1.000000</td>\n",
       "    </tr>\n",
       "  </tbody>\n",
       "</table>\n",
       "</div>"
      ],
      "text/plain": [
       "               Sex  Survived\n",
       "Sex       1.000000  0.543351\n",
       "Survived  0.543351  1.000000"
      ]
     },
     "execution_count": 30,
     "metadata": {},
     "output_type": "execute_result"
    }
   ],
   "source": [
    "gender_titanic = titanic[['Sex', 'Survived']]\n",
    "gender_titanic.replace(['male', 'female'], [0, 1], inplace=True)\n",
    "\n",
    "gender_titanic[['Sex', 'Survived']].corr(method='pearson')"
   ]
  },
  {
   "cell_type": "code",
   "execution_count": 31,
   "id": "6b0a884a",
   "metadata": {},
   "outputs": [
    {
     "data": {
      "text/plain": [
       "Sex     Pclass\n",
       "female  1         96.808511\n",
       "        2         92.105263\n",
       "        3         50.000000\n",
       "male    1         36.885246\n",
       "        2         15.740741\n",
       "        3         13.544669\n",
       "Name: Survived, dtype: float64"
      ]
     },
     "execution_count": 31,
     "metadata": {},
     "output_type": "execute_result"
    }
   ],
   "source": [
    "titanic.groupby(['Sex', 'Pclass'])['Survived'].mean() * 100"
   ]
  },
  {
   "cell_type": "code",
   "execution_count": 32,
   "id": "a8eea827",
   "metadata": {},
   "outputs": [
    {
     "data": {
      "text/plain": [
       "(714, 2)"
      ]
     },
     "execution_count": 32,
     "metadata": {},
     "output_type": "execute_result"
    }
   ],
   "source": [
    "titanic_age = titanic[['Age' , 'Survived']].dropna(how='any')\n",
    "titanic_age['Age'] = (np.floor(titanic_age['Age'])).astype(int)\n",
    "titanic_age.shape"
   ]
  },
  {
   "cell_type": "code",
   "execution_count": 33,
   "id": "c9d88a64",
   "metadata": {},
   "outputs": [
    {
     "data": {
      "text/html": [
       "<div>\n",
       "<style scoped>\n",
       "    .dataframe tbody tr th:only-of-type {\n",
       "        vertical-align: middle;\n",
       "    }\n",
       "\n",
       "    .dataframe tbody tr th {\n",
       "        vertical-align: top;\n",
       "    }\n",
       "\n",
       "    .dataframe thead th {\n",
       "        text-align: right;\n",
       "    }\n",
       "</style>\n",
       "<table border=\"1\" class=\"dataframe\">\n",
       "  <thead>\n",
       "    <tr style=\"text-align: right;\">\n",
       "      <th></th>\n",
       "      <th>Age</th>\n",
       "      <th>Survived</th>\n",
       "    </tr>\n",
       "    <tr>\n",
       "      <th>PassengerId</th>\n",
       "      <th></th>\n",
       "      <th></th>\n",
       "    </tr>\n",
       "  </thead>\n",
       "  <tbody>\n",
       "    <tr>\n",
       "      <th>1</th>\n",
       "      <td>22</td>\n",
       "      <td>0</td>\n",
       "    </tr>\n",
       "    <tr>\n",
       "      <th>2</th>\n",
       "      <td>38</td>\n",
       "      <td>1</td>\n",
       "    </tr>\n",
       "    <tr>\n",
       "      <th>3</th>\n",
       "      <td>26</td>\n",
       "      <td>1</td>\n",
       "    </tr>\n",
       "    <tr>\n",
       "      <th>4</th>\n",
       "      <td>35</td>\n",
       "      <td>1</td>\n",
       "    </tr>\n",
       "    <tr>\n",
       "      <th>5</th>\n",
       "      <td>35</td>\n",
       "      <td>0</td>\n",
       "    </tr>\n",
       "  </tbody>\n",
       "</table>\n",
       "</div>"
      ],
      "text/plain": [
       "             Age  Survived\n",
       "PassengerId               \n",
       "1             22         0\n",
       "2             38         1\n",
       "3             26         1\n",
       "4             35         1\n",
       "5             35         0"
      ]
     },
     "execution_count": 33,
     "metadata": {},
     "output_type": "execute_result"
    }
   ],
   "source": [
    "titanic_age.head()"
   ]
  },
  {
   "cell_type": "code",
   "execution_count": 34,
   "id": "eeb88f2c",
   "metadata": {},
   "outputs": [
    {
     "name": "stdout",
     "output_type": "stream",
     "text": [
      "Youngest passenger: 0 months old\n",
      "Oldest passenger: 80 years old\n"
     ]
    }
   ],
   "source": [
    "print('Youngest passenger: ' + str(titanic_age['Age'].min() * 12) + ' months old')\n",
    "print('Oldest passenger: ' + str(titanic_age['Age'].max()) + ' years old')"
   ]
  },
  {
   "cell_type": "code",
   "execution_count": 35,
   "id": "4f15e22b",
   "metadata": {},
   "outputs": [
    {
     "data": {
      "text/plain": [
       "array([ 0,  1,  2,  3,  4,  5,  6,  7,  8,  9, 10, 11, 12, 13, 14, 15, 16,\n",
       "       17, 18, 19, 20, 21, 22, 23, 24, 25, 26, 27, 28, 29, 30, 31, 32, 33,\n",
       "       34, 35, 36, 37, 38, 39, 40, 41, 42, 43, 44, 45, 46, 47, 48, 49, 50,\n",
       "       51, 52, 53, 54, 55, 56, 57, 58, 59, 60, 61, 62, 63, 64, 65, 66, 70,\n",
       "       71, 74, 80])"
      ]
     },
     "execution_count": 35,
     "metadata": {},
     "output_type": "execute_result"
    }
   ],
   "source": [
    "ages = titanic_age['Age'].unique()\n",
    "ages.sort()\n",
    "ages"
   ]
  },
  {
   "cell_type": "code",
   "execution_count": 36,
   "id": "ea7db815",
   "metadata": {},
   "outputs": [
    {
     "data": {
      "text/html": [
       "<div>\n",
       "<style scoped>\n",
       "    .dataframe tbody tr th:only-of-type {\n",
       "        vertical-align: middle;\n",
       "    }\n",
       "\n",
       "    .dataframe tbody tr th {\n",
       "        vertical-align: top;\n",
       "    }\n",
       "\n",
       "    .dataframe thead th {\n",
       "        text-align: right;\n",
       "    }\n",
       "</style>\n",
       "<table border=\"1\" class=\"dataframe\">\n",
       "  <thead>\n",
       "    <tr style=\"text-align: right;\">\n",
       "      <th></th>\n",
       "      <th>Survived</th>\n",
       "      <th>Deaths</th>\n",
       "      <th>Total</th>\n",
       "      <th>Percentage</th>\n",
       "    </tr>\n",
       "  </thead>\n",
       "  <tbody>\n",
       "    <tr>\n",
       "      <th>0</th>\n",
       "      <td>7</td>\n",
       "      <td>0</td>\n",
       "      <td>7</td>\n",
       "      <td>100.00</td>\n",
       "    </tr>\n",
       "    <tr>\n",
       "      <th>1</th>\n",
       "      <td>5</td>\n",
       "      <td>2</td>\n",
       "      <td>7</td>\n",
       "      <td>71.43</td>\n",
       "    </tr>\n",
       "    <tr>\n",
       "      <th>2</th>\n",
       "      <td>3</td>\n",
       "      <td>7</td>\n",
       "      <td>10</td>\n",
       "      <td>30.00</td>\n",
       "    </tr>\n",
       "    <tr>\n",
       "      <th>3</th>\n",
       "      <td>5</td>\n",
       "      <td>1</td>\n",
       "      <td>6</td>\n",
       "      <td>83.33</td>\n",
       "    </tr>\n",
       "    <tr>\n",
       "      <th>4</th>\n",
       "      <td>7</td>\n",
       "      <td>3</td>\n",
       "      <td>10</td>\n",
       "      <td>70.00</td>\n",
       "    </tr>\n",
       "  </tbody>\n",
       "</table>\n",
       "</div>"
      ],
      "text/plain": [
       "   Survived  Deaths  Total  Percentage\n",
       "0         7       0      7      100.00\n",
       "1         5       2      7       71.43\n",
       "2         3       7     10       30.00\n",
       "3         5       1      6       83.33\n",
       "4         7       3     10       70.00"
      ]
     },
     "execution_count": 36,
     "metadata": {},
     "output_type": "execute_result"
    }
   ],
   "source": [
    "age_survival = pd.DataFrame(index=ages, columns=['Survived', 'Deaths', 'Total', 'Percentage'])\n",
    "\n",
    "age_survival['Survived'] = titanic_age.groupby('Age')['Survived'].sum()\n",
    "age_survival['Total'] = titanic_age.groupby('Age').count()\n",
    "age_survival['Deaths'] = age_survival['Total'] - age_survival['Survived']\n",
    "age_survival['Percentage'] = round(titanic_age.groupby('Age')['Survived'].mean() * 100, 2)\n",
    "\n",
    "age_survival.head()"
   ]
  },
  {
   "cell_type": "code",
   "execution_count": 37,
   "id": "84f6f690",
   "metadata": {},
   "outputs": [
    {
     "data": {
      "image/png": "[encoded data removed]",
      "text/plain": [
       "<Figure size 432x288 with 1 Axes>"
      ]
     },
     "metadata": {
      "needs_background": "light"
     },
     "output_type": "display_data"
    }
   ],
   "source": [
    "x = age_survival['Percentage'].index\n",
    "y = age_survival['Percentage']\n",
    "plt.scatter(x, y)\n",
    "m, b = np.polyfit(x, y, 1)\n",
    "plt.plot(x, y, '.')\n",
    "plt.title('Survival rates by age')\n",
    "plt.xlabel('Age in years')\n",
    "plt.ylabel('Percentage of survivors')\n",
    "plt.show()"
   ]
  },
  {
   "cell_type": "code",
   "execution_count": 38,
   "id": "d78eabe7",
   "metadata": {},
   "outputs": [
    {
     "data": {
      "image/png": "[encoded data removed]",
      "text/plain": [
       "<Figure size 432x288 with 1 Axes>"
      ]
     },
     "metadata": {
      "needs_background": "light"
     },
     "output_type": "display_data"
    }
   ],
   "source": [
    "age_survival = age_survival.drop(age_survival[(age_survival['Percentage'] == 100) & (age_survival.index > 50)].index)\n",
    "x = age_survival['Percentage'].index\n",
    "y = age_survival['Percentage']\n",
    "plt.scatter(x, y)\n",
    "m, b = np.polyfit(x, y, 1)\n",
    "plt.plot(x, y, '.')\n",
    "plt.plot(x, m*x + b, '-')\n",
    "plt.title('Survival rates by age')\n",
    "plt.xlabel('Age in years')\n",
    "plt.ylabel('Percentage of survivors')\n",
    "plt.show()"
   ]
  },
  {
   "cell_type": "code",
   "execution_count": 39,
   "id": "35e6335f",
   "metadata": {},
   "outputs": [
    {
     "name": "stdout",
     "output_type": "stream",
     "text": [
      "Slope:  -0.6731448575214685\n",
      "Intercept:  61.93830324815576\n",
      "r_value:  -0.5279643944469163\n",
      "r_squared:  0.2787464018036991\n",
      "p_value:  3.7119198819981097e-06\n",
      "std_error:  0.13328335798924698\n"
     ]
    }
   ],
   "source": [
    "slope, intercept, r_value, p_value, std_err = stats.linregress(x, y)\n",
    "\n",
    "print('Slope: ', slope)\n",
    "print('Intercept: ', intercept)\n",
    "print('r_value: ', r_value)\n",
    "print('r_squared: ', r_value ** 2)\n",
    "print('p_value: ', p_value)\n",
    "print('std_error: ', std_err)"
   ]
  },
  {
   "cell_type": "code",
   "execution_count": 61,
   "id": "1cc0ca59",
   "metadata": {},
   "outputs": [
    {
     "name": "stderr",
     "output_type": "stream",
     "text": [
      "C:\\Users\\17786\\anaconda3\\lib\\site-packages\\seaborn\\distributions.py:2619: FutureWarning: `distplot` is a deprecated function and will be removed in a future version. Please adapt your code to use either `displot` (a figure-level function with similar flexibility) or `histplot` (an axes-level function for histograms).\n",
      "  warnings.warn(msg, FutureWarning)\n",
      "C:\\Users\\17786\\anaconda3\\lib\\site-packages\\seaborn\\distributions.py:2619: FutureWarning: `distplot` is a deprecated function and will be removed in a future version. Please adapt your code to use either `displot` (a figure-level function with similar flexibility) or `histplot` (an axes-level function for histograms).\n",
      "  warnings.warn(msg, FutureWarning)\n"
     ]
    },
    {
     "data": {
      "image/png": "[encoded data removed]",
      "text/plain": [
       "<Figure size 432x288 with 1 Axes>"
      ]
     },
     "metadata": {
      "needs_background": "light"
     },
     "output_type": "display_data"
    }
   ],
   "source": [
    "age_bins = np.arange(0, 100, 4)\n",
    "sns.distplot(titanic.loc[(titanic['Survived']==0) & (~titanic['Age'].isnull()),'Age'], bins=age_bins)\n",
    "sns.distplot(titanic.loc[(titanic['Survived']==1) & (~titanic['Age'].isnull()),'Age'], bins=age_bins)\n",
    "plt.title('Age of Survivors')\n",
    "plt.ylabel('Frequency')\n",
    "plt.legend(['Did not survive', 'Survived'])\n",
    "plt.show()"
   ]
  },
  {
   "cell_type": "code",
   "execution_count": null,
   "id": "667fa74b",
   "metadata": {},
   "outputs": [],
   "source": []
  },
  {
   "cell_type": "code",
   "execution_count": 41,
   "id": "a91a3e9c",
   "metadata": {},
   "outputs": [],
   "source": [
    "def get_age(age):\n",
    "   \n",
    "    younger = titanic['Age'].where(titanic['Age'] <= age)\n",
    "    older = titanic['Age'].where(titanic['Age'] > age)\n",
    "    younger_survival = younger.where(titanic['Survived'] == 1).count()\n",
    "    older_survival = older.where(titanic['Survived'] == 1).count()\n",
    "    younger_death = younger.where(titanic['Survived'] == 0).count()\n",
    "    older_death = older.where(titanic['Survived'] == 0).count()\n",
    "    return younger_survival, older_survival, younger_death, older_death"
   ]
  },
  {
   "cell_type": "code",
   "execution_count": 42,
   "id": "7a92fbb5",
   "metadata": {},
   "outputs": [
    {
     "name": "stdout",
     "output_type": "stream",
     "text": [
      "AGE LIMIT = 6\n",
      "Survivors for children up to 6:  33\n",
      "Survivor for people over 6:  257\n",
      "Deaths for children up to 6:  14\n",
      "Deaths for people over 6:  410\n",
      "AGE LIMIT = 12\n",
      "Survivors for children up to 12:  40\n",
      "Survivors for people over 12:  250\n",
      "Deaths for children up to 12:  29\n",
      "Deaths for people over 12:  395\n"
     ]
    }
   ],
   "source": [
    "up_6_survival, over_6_survival, up_6_death, over_6_death = get_age(6)\n",
    "up_12_survival, over_12_survival, up_12_death, over_12_death = get_age(12)\n",
    "\n",
    "print('AGE LIMIT = 6')\n",
    "print('Survivors for children up to 6: ', up_6_survival)\n",
    "print('Survivor for people over 6: ', over_6_survival)\n",
    "print('Deaths for children up to 6: ', up_6_death)\n",
    "print('Deaths for people over 6: ', over_6_death)\n",
    "\n",
    "print('AGE LIMIT = 12')\n",
    "print('Survivors for children up to 12: ', up_12_survival)\n",
    "print('Survivors for people over 12: ', over_12_survival)\n",
    "print('Deaths for children up to 12: ', up_12_death)\n",
    "print('Deaths for people over 12: ', over_12_death)"
   ]
  },
  {
   "cell_type": "code",
   "execution_count": 43,
   "id": "7c738c96",
   "metadata": {},
   "outputs": [
    {
     "data": {
      "image/png": "[encoded data removed]",
      "text/plain": [
       "<Figure size 720x360 with 2 Axes>"
      ]
     },
     "metadata": {
      "needs_background": "light"
     },
     "output_type": "display_data"
    }
   ],
   "source": [
    "plot([up_6_survival, over_6_survival],\n",
    "         [up_6_death, over_6_death],\n",
    "         '- 6 years old',\n",
    "         ['Up to 6', 'Over 6'])"
   ]
  },
  {
   "cell_type": "code",
   "execution_count": 45,
   "id": "b2446180",
   "metadata": {},
   "outputs": [
    {
     "data": {
      "image/png": "[encoded data removed]",
      "text/plain": [
       "<Figure size 720x360 with 2 Axes>"
      ]
     },
     "metadata": {
      "needs_background": "light"
     },
     "output_type": "display_data"
    }
   ],
   "source": [
    "plot([up_12_survival, over_12_survival],\n",
    "         [up_12_death, over_12_death],\n",
    "         '- 12 years old',\n",
    "         ['Up to 12', 'Over 12'])"
   ]
  },
  {
   "cell_type": "code",
   "execution_count": 46,
   "id": "5b879705",
   "metadata": {},
   "outputs": [],
   "source": [
    "total_passenger = len(titanic['Embarked'])\n",
    "cherbourg = (titanic['Embarked'] == 'C').sum()\n",
    "queenstown = (titanic['Embarked'] == 'Q').sum()\n",
    "southampton = (titanic['Embarked'] == 'S').sum()\n",
    "\n",
    "per_cherbourg =  cherbourg / total_passenger * 100\n",
    "per_queenstown = queenstown / total_passenger * 100\n",
    "per_southampton = southampton / total_passenger * 100"
   ]
  },
  {
   "cell_type": "code",
   "execution_count": 47,
   "id": "c08b4062",
   "metadata": {},
   "outputs": [
    {
     "name": "stdout",
     "output_type": "stream",
     "text": [
      "Cherbourg percentage =  18.855218855218855   Count:  168\n",
      "Queenstown percentage =  8.641975308641975  Count:  77\n",
      "Southampton percentage =  72.27833894500561  Count:  644\n"
     ]
    }
   ],
   "source": [
    "print('Cherbourg percentage = ', per_cherbourg, '  Count: ', cherbourg)\n",
    "print('Queenstown percentage = ', per_queenstown, ' Count: ', queenstown)\n",
    "print('Southampton percentage = ', per_southampton, ' Count: ', southampton)"
   ]
  },
  {
   "cell_type": "code",
   "execution_count": 48,
   "id": "bc32e3e9",
   "metadata": {},
   "outputs": [
    {
     "name": "stdout",
     "output_type": "stream",
     "text": [
      "Survival rate: Embarked\n"
     ]
    },
    {
     "data": {
      "text/plain": [
       "('Embarked',\n",
       " Embarked\n",
       " C     93\n",
       " Q     30\n",
       " S    217\n",
       " Name: Survived, dtype: int64)"
      ]
     },
     "execution_count": 48,
     "metadata": {},
     "output_type": "execute_result"
    }
   ],
   "source": [
    "survival(titanic, 'Embarked')"
   ]
  },
  {
   "cell_type": "code",
   "execution_count": 49,
   "id": "dedafa82",
   "metadata": {},
   "outputs": [],
   "source": [
    "cherbourg_survivors = getcount(titanic, 'Embarked', 'C', 1)\n",
    "queenstown_survivors = getcount(titanic, 'Embarked', 'Q', 1)\n",
    "southampton_survivors = getcount(titanic, 'Embarked', 'S', 1)\n",
    "cherbourg_death = getcount(titanic, 'Embarked', 'C', 0)\n",
    "queenstown_death = getcount(titanic, 'Embarked', 'Q', 0)\n",
    "southampton_death = getcount(titanic, 'Embarked', 'S', 0)"
   ]
  },
  {
   "cell_type": "code",
   "execution_count": 50,
   "id": "30a9408f",
   "metadata": {},
   "outputs": [
    {
     "name": "stdout",
     "output_type": "stream",
     "text": [
      "SURVIVORS BY PORT OF EMBARKATION\n",
      "Cherbourg survivors: 93\n",
      "Queenstown class survivors: 30\n",
      "Southampton survivors: 217\n",
      "DEATHS BY PORT OF EMBARKATION\n",
      "Cherbourg death: 75\n",
      "Queenstown death: 47\n",
      "Southampton death: 427\n"
     ]
    }
   ],
   "source": [
    "print('SURVIVORS BY PORT OF EMBARKATION')\n",
    "print('Cherbourg survivors:', cherbourg_survivors)\n",
    "print('Queenstown class survivors:', queenstown_survivors)\n",
    "print('Southampton survivors:', southampton_survivors)\n",
    "print('DEATHS BY PORT OF EMBARKATION')\n",
    "print('Cherbourg death:', cherbourg_death)\n",
    "print('Queenstown death:', queenstown_death)\n",
    "print('Southampton death:', southampton_death)"
   ]
  },
  {
   "cell_type": "code",
   "execution_count": 51,
   "id": "40663c8a",
   "metadata": {},
   "outputs": [
    {
     "data": {
      "image/png": "[encoded data removed]",
      "text/plain": [
       "<Figure size 720x360 with 2 Axes>"
      ]
     },
     "metadata": {
      "needs_background": "light"
     },
     "output_type": "display_data"
    }
   ],
   "source": [
    "plot([cherbourg_survivors, queenstown_survivors, southampton_survivors],\n",
    "         [cherbourg_death, queenstown_death, southampton_death],\n",
    "         'by port of embarkation',\n",
    "         ['Cherbourg', 'Queenstown', 'Southampton'])"
   ]
  },
  {
   "cell_type": "code",
   "execution_count": 56,
   "id": "a8c4c5ee",
   "metadata": {},
   "outputs": [],
   "source": [
    "cherbourg_count = titanic[titanic['Embarked'] == 'C']\n",
    "\n",
    "cherbourg_first = (cherbourg_count['Pclass'] == 1).sum()\n",
    "cherbourg_second = (cherbourg_count['Pclass'] == 2).sum()\n",
    "cherbourg_third = (cherbourg_count['Pclass'] == 3).sum()\n",
    "\n",
    "cherbourg_f = cherbourg_first / cherbourg * 100\n",
    "cherbourg_s = cherbourg_second / cherbourg * 100\n",
    "cherbourg_t = cherbourg_third / cherbourg * 100\n"
   ]
  },
  {
   "cell_type": "code",
   "execution_count": 58,
   "id": "f4c30d27",
   "metadata": {},
   "outputs": [],
   "source": [
    "southampton_count = titanic[titanic['Embarked'] == 'S']\n",
    "\n",
    "southampton_first = (southampton_count['Pclass'] == 1).sum()\n",
    "southampton_second = (southampton_count['Pclass'] == 2).sum()\n",
    "southampton_third = (southampton_count['Pclass'] == 3).sum()\n",
    "\n",
    "southampton_f = southampton_first / southampton * 100\n",
    "southampton_s = southampton_second / southampton * 100\n",
    "southampton_t = southampton_third / southampton * 100"
   ]
  },
  {
   "cell_type": "code",
   "execution_count": 59,
   "id": "3faa668c",
   "metadata": {},
   "outputs": [
    {
     "name": "stdout",
     "output_type": "stream",
     "text": [
      "Cherbourg first class =  50.595238095238095\n",
      "Cherbourg second class =  10.119047619047619\n",
      "Cherbourg third class percentage =  39.285714285714285\n",
      "Southampton first class =  19.72049689440994\n",
      "Southampton second class =  25.465838509316768\n",
      "Southampton third class percentage =  54.81366459627329\n"
     ]
    }
   ],
   "source": [
    "print('Cherbourg first class = ', cherbourg_f)\n",
    "print('Cherbourg second class = ', cherbourg_s)\n",
    "print('Cherbourg third class percentage = ', cherbourg_t)\n",
    "\n",
    "print('Southampton first class = ', southampton_f)\n",
    "print('Southampton second class = ', southampton_s)\n",
    "print('Southampton third class percentage = ', southampton_t)"
   ]
  },
  {
   "cell_type": "code",
   "execution_count": 60,
   "id": "02fa27d9",
   "metadata": {},
   "outputs": [
    {
     "data": {
      "text/plain": [
       "Sex     Pclass  Embarked\n",
       "female  1       C            97.674419\n",
       "                Q           100.000000\n",
       "                S            95.833333\n",
       "        2       C           100.000000\n",
       "                Q           100.000000\n",
       "                S            91.044776\n",
       "        3       C            65.217391\n",
       "                Q            72.727273\n",
       "                S            37.500000\n",
       "male    1       C            40.476190\n",
       "                Q             0.000000\n",
       "                S            35.443038\n",
       "        2       C            20.000000\n",
       "                Q             0.000000\n",
       "                S            15.463918\n",
       "        3       C            23.255814\n",
       "                Q             7.692308\n",
       "                S            12.830189\n",
       "Name: Survived, dtype: float64"
      ]
     },
     "execution_count": 60,
     "metadata": {},
     "output_type": "execute_result"
    }
   ],
   "source": [
    "titanic.groupby(['Sex', 'Pclass', 'Embarked'])['Survived'].mean() * 100"
   ]
  },
  {
   "cell_type": "code",
   "execution_count": null,
   "id": "9abe0bce",
   "metadata": {},
   "outputs": [],
   "source": []
  },
  {
   "cell_type": "code",
   "execution_count": null,
   "id": "d177f4b2",
   "metadata": {},
   "outputs": [],
   "source": []
  },
  {
   "cell_type": "code",
   "execution_count": null,
   "id": "7caff8f7",
   "metadata": {},
   "outputs": [],
   "source": []
  }
 ],
 "metadata": {
  "kernelspec": {
   "display_name": "Python 3 (ipykernel)",
   "language": "python",
   "name": "python3"
  },
  "language_info": {
   "codemirror_mode": {
    "name": "ipython",
    "version": 3
   },
   "file_extension": ".py",
   "mimetype": "text/x-python",
   "name": "python",
   "nbconvert_exporter": "python",
   "pygments_lexer": "ipython3",
   "version": "3.9.12"
  }
 },
 "nbformat": 4,
 "nbformat_minor": 5
}
